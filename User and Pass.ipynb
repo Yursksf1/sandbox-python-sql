{
 "cells": [
  {
   "cell_type": "code",
   "execution_count": 1,
   "metadata": {},
   "outputs": [],
   "source": [
    "def nickname(nombre_usuario):\n",
    "\n",
    "        long=len(nombre_usuario) #Calcular la longitud del nomre de usuario\n",
    "        y=nombre_usuario.isalnum() #Calcula que la cadena contenga valores alfanuméricos\n",
    "        \n",
    "        if y== False: # La cadena contiene valores no alfanuméricos\n",
    "            print(\"El nombre de usuario puede contener solo letras y números\")\n",
    "            \n",
    "        if long < 6: \n",
    "            print(\"El nombre de usuario debe contener al menos 6 caracteres\")\n",
    "            \n",
    "        if long > 12: \n",
    "            print(\"El nombre de usuario no puede contener más de 12 caracteres\")\n",
    "            \n",
    "        if long >5 and long <13 and y ==True:\n",
    "            return True #Verdadero si el tamaño es mayor a 5 y menor a 13"
   ]
  },
  {
   "cell_type": "code",
   "execution_count": 23,
   "metadata": {},
   "outputs": [],
   "source": [
    "def clave(password):\n",
    "\n",
    "        validar=False #que se vayan cumpliendo los requisitos uno a uno.\n",
    "        long=len(password) #Calcula la longitud de la contraseña\n",
    "        espacio=False  #variable para identificar espacios\n",
    "        mayuscula=False #variable para identificar letras mayúsculas\n",
    "        minuscula=False #variable para contar identificar letras minúsculas\n",
    "        numeros=False #variable para identificar números\n",
    "        y=password.isalnum()#si es alfanumérica retona True\n",
    "        correcto=True #verifica que hayan mayuscula, minuscula, numeros y no alfanuméricos\n",
    "        \n",
    "        for carac in password: #ciclo for que recorre caracter por caracter en la contraseña\n",
    "\n",
    "            if carac.isspace()==True: #Saber si el caracter es un espacio\n",
    "                espacio=True #si encuentra un espacio se cambia el valor user\n",
    "\n",
    "            if carac.isupper()== True: #saber si hay mayuscula\n",
    "                mayuscula=True #acumulador o contador de mayusculas\n",
    "                \n",
    "            if carac.islower()== True: #saber si hay minúsculas\n",
    "                minuscula=True #acumulador o contador de minúsculas\n",
    "                \n",
    "            if carac.isdigit()== True: #saber si hay números\n",
    "                numeros=True #acumulador o contador de numeros\n",
    "                            \n",
    "        if espacio==True: #hay espacios en blanco\n",
    "                print(\"La contraseña no puede contener espacios\")\n",
    "        else:\n",
    "            validar=True #se cumple el primer requisito que no hayan espacios\n",
    "                       \n",
    "        if long <8 and validar==True:\n",
    "            print(\"Mínimo 8 caracteres\")\n",
    "            validar=False #cambia a Flase si no se cumple el requisito móinimo de caracteres\n",
    "\n",
    "        if mayuscula == True and minuscula ==True and numeros == True and y== False and validar ==True:\n",
    "            validar = True #Cumple el requisito de tener mayuscula, minuscula, numeros y no alfanuméricos\n",
    "        else:\n",
    "            correcto=False #uno o mas requisitos de mayuscula, minuscula, numeros y no alfanuméricos no se cumple\n",
    "           \n",
    "        if validar == True and correcto==False:\n",
    "            print(\"La contraseña elegida no es segura: debe contener letras minúsculas, mayúsculas, números y al menos 1 carácter no alfanumérico\")\n",
    "\n",
    "        if validar == True and correcto ==True:\n",
    "            return True"
   ]
  },
  {
   "cell_type": "code",
   "execution_count": 5,
   "metadata": {},
   "outputs": [
    {
     "name": "stdout",
     "output_type": "stream",
     "text": [
      "Ingrese nombre de usuario: Yurley5\n",
      "Usuario creado exitosamente\n",
      "Ingrese su Password: Yurs.ksf1@\n",
      "Contraseña creada exitosamente\n"
     ]
    }
   ],
   "source": [
    "correcto=False\n",
    "while correcto==False:\n",
    "        nombre=input(\"Ingrese nombre de usuario: \")\n",
    "        if nickname(nombre) == True:\n",
    "            print(\"Usuario creado exitosamente\")\n",
    "            correcto=True\n",
    "\n",
    "while correcto==True:\n",
    "    contrasenia=input(\"Ingrese su Password: \")\n",
    "    if clave(contrasenia)==True:\n",
    "        print(\"Contraseña creada exitosamente\")\n",
    "        correcto=False"
   ]
  },
  {
   "cell_type": "code",
   "execution_count": 13,
   "metadata": {},
   "outputs": [],
   "source": [
    "import hashlib\n"
   ]
  },
  {
   "cell_type": "code",
   "execution_count": 7,
   "metadata": {},
   "outputs": [
    {
     "data": {
      "text/plain": [
       "'Yurley5'"
      ]
     },
     "execution_count": 7,
     "metadata": {},
     "output_type": "execute_result"
    }
   ],
   "source": [
    "nombre"
   ]
  },
  {
   "cell_type": "code",
   "execution_count": 8,
   "metadata": {},
   "outputs": [
    {
     "data": {
      "text/plain": [
       "'Yurs.ksf1@'"
      ]
     },
     "execution_count": 8,
     "metadata": {},
     "output_type": "execute_result"
    }
   ],
   "source": [
    "contrasenia"
   ]
  },
  {
   "cell_type": "code",
   "execution_count": 15,
   "metadata": {},
   "outputs": [],
   "source": [
    "import hashlib\n",
    "\n",
    "def computeMD5hash(my_string):\n",
    "    m = hashlib.md5()\n",
    "    m.update(my_string.encode('utf-8'))\n",
    "    return m.hexdigest()\n"
   ]
  },
  {
   "cell_type": "code",
   "execution_count": 17,
   "metadata": {},
   "outputs": [],
   "source": [
    "a = computeMD5hash(\"some\")"
   ]
  },
  {
   "cell_type": "code",
   "execution_count": 18,
   "metadata": {},
   "outputs": [],
   "source": [
    "b = computeMD5hash(\"some\")"
   ]
  },
  {
   "cell_type": "code",
   "execution_count": 20,
   "metadata": {},
   "outputs": [],
   "source": [
    "c = computeMD5hash(\"some1\")"
   ]
  },
  {
   "cell_type": "code",
   "execution_count": 21,
   "metadata": {},
   "outputs": [
    {
     "data": {
      "text/plain": [
       "True"
      ]
     },
     "execution_count": 21,
     "metadata": {},
     "output_type": "execute_result"
    }
   ],
   "source": [
    "a == b"
   ]
  },
  {
   "cell_type": "code",
   "execution_count": 22,
   "metadata": {},
   "outputs": [
    {
     "data": {
      "text/plain": [
       "False"
      ]
     },
     "execution_count": 22,
     "metadata": {},
     "output_type": "execute_result"
    }
   ],
   "source": [
    "a == c"
   ]
  },
  {
   "cell_type": "code",
   "execution_count": null,
   "metadata": {},
   "outputs": [],
   "source": []
  }
 ],
 "metadata": {
  "kernelspec": {
   "display_name": "Python 3",
   "language": "python",
   "name": "python3"
  },
  "language_info": {
   "codemirror_mode": {
    "name": "ipython",
    "version": 3
   },
   "file_extension": ".py",
   "mimetype": "text/x-python",
   "name": "python",
   "nbconvert_exporter": "python",
   "pygments_lexer": "ipython3",
   "version": "3.6.4"
  }
 },
 "nbformat": 4,
 "nbformat_minor": 2
}
